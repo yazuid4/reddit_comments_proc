{
 "cells": [
  {
   "cell_type": "code",
   "execution_count": 1,
   "id": "fe13f136-c9b0-41fe-a670-d14481518631",
   "metadata": {},
   "outputs": [],
   "source": [
    "import pyspark\n",
    "from pyspark.sql import SparkSession\n",
    "from pyspark.sql import functions as F"
   ]
  },
  {
   "cell_type": "code",
   "execution_count": 2,
   "id": "e8ff5a59-2bfa-4c24-8cfa-429d19d7e550",
   "metadata": {},
   "outputs": [],
   "source": [
    "spark = SparkSession.builder\\\n",
    "            .appName(\"reddit-analysis\")\\\n",
    "            .master(\"local[*]\")\\\n",
    "            .getOrCreate()"
   ]
  },
  {
   "cell_type": "code",
   "execution_count": 3,
   "id": "17790b1a-7666-42e7-8427-b48335ec2533",
   "metadata": {},
   "outputs": [],
   "source": [
    "df = spark.read.parquet(\"../data/raw/pq/*/*\")"
   ]
  },
  {
   "cell_type": "code",
   "execution_count": 4,
   "id": "273c4f62-c0df-4d24-b82b-89e2d4d2baea",
   "metadata": {},
   "outputs": [
    {
     "data": {
      "text/plain": [
       "1693013"
      ]
     },
     "execution_count": 4,
     "metadata": {},
     "output_type": "execute_result"
    }
   ],
   "source": [
    "df.count()"
   ]
  },
  {
   "cell_type": "code",
   "execution_count": 7,
   "id": "3bca4b4e-3c9e-46d0-b642-c64362339e35",
   "metadata": {},
   "outputs": [
    {
     "data": {
      "text/plain": [
       "['controversiality',\n",
       " 'body',\n",
       " 'subreddit_id',\n",
       " 'link_id',\n",
       " 'stickied',\n",
       " 'subreddit',\n",
       " 'score',\n",
       " 'ups',\n",
       " 'author_flair_css_class',\n",
       " 'author_flair_text',\n",
       " 'author',\n",
       " 'id',\n",
       " 'edited',\n",
       " 'parent_id',\n",
       " 'gilded',\n",
       " 'distinguished',\n",
       " 'created_utc_ts',\n",
       " 'retrieved_on_ts',\n",
       " 'month',\n",
       " 'year']"
      ]
     },
     "execution_count": 7,
     "metadata": {},
     "output_type": "execute_result"
    }
   ],
   "source": [
    "df.columns"
   ]
  },
  {
   "cell_type": "code",
   "execution_count": 10,
   "id": "e21fdf48-6f1f-4519-999a-d0a0f33525ff",
   "metadata": {},
   "outputs": [],
   "source": [
    "# sql\n",
    "df.createOrReplaceTempView('reddit_comments')"
   ]
  },
  {
   "cell_type": "code",
   "execution_count": 27,
   "id": "93f19fc1-b4b3-4932-8f20-88c6f079df22",
   "metadata": {},
   "outputs": [
    {
     "name": "stdout",
     "output_type": "stream",
     "text": [
      "+---------------+-----------+\n",
      "|         author|nb_comments|\n",
      "+---------------+-----------+\n",
      "|      lemmikins|        680|\n",
      "|NoMoreNicksLeft|        484|\n",
      "|     JTucker381|        464|\n",
      "|         gormly|        382|\n",
      "|       smacfarl|        356|\n",
      "+---------------+-----------+\n",
      "only showing top 5 rows\n",
      "\n"
     ]
    }
   ],
   "source": [
    "spark.sql(\"\"\"\n",
    "    SELECT\n",
    "        author,\n",
    "        count(id) AS nb_comments\n",
    "    FROM\n",
    "        reddit_comments\n",
    "    WHERE\n",
    "        author != '[deleted]'\n",
    "    GROUP BY\n",
    "        1\n",
    "    ORDER BY\n",
    "        2 desc\n",
    "\"\"\").show(5)"
   ]
  },
  {
   "cell_type": "code",
   "execution_count": 52,
   "id": "47b9137d-997b-4026-afb7-87fabf1e6284",
   "metadata": {},
   "outputs": [
    {
     "name": "stdout",
     "output_type": "stream",
     "text": [
      "+------------+-----------+--------------+----------------+---------+---------+---------+-------+------------+--------------+------------+--------------------+-------------------+\n",
      "|subreddit_id|  subreddit|comments_count|distinct_authors|sum_score|max_score|avg_score|sum_ups|edited_count|stickied_count|gilded_count|controversiality_sum|distinguished_count|\n",
      "+------------+-----------+--------------+----------------+---------+---------+---------+-------+------------+--------------+------------+--------------------+-------------------+\n",
      "|        t5_6| reddit.com|         75678|            7895|   224620|      239|     2.97| 224620|          22|             0|           2|                6049|                  0|\n",
      "|     t5_2fwo|programming|          7650|            1290|    24505|       96|      3.2|  24505|           1|             0|           0|                 434|                  0|\n",
      "|     t5_mouw|    science|          2018|             694|     5240|       72|      2.6|   5240|           0|             0|           0|                 117|                  0|\n",
      "|     t5_22i6|         ja|           138|              22|      160|        4|     1.16|    160|           0|             0|           0|                   0|                  0|\n",
      "|     t5_21n6|   features|           156|              64|      132|        8|     0.85|    132|           0|             0|           0|                   0|                  0|\n",
      "+------------+-----------+--------------+----------------+---------+---------+---------+-------+------------+--------------+------------+--------------------+-------------------+\n",
      "only showing top 5 rows\n",
      "\n"
     ]
    }
   ],
   "source": [
    "# Engagement reports\n",
    "spark.sql(\"\"\"\n",
    "   SELECT \n",
    "     subreddit_id,\n",
    "     subreddit,\n",
    "     COUNT(id) as comments_count,\n",
    "     COUNT(DISTINCT author) AS distinct_authors,\n",
    "     SUM(score) AS sum_score,\n",
    "     MAX(score) AS max_score,\n",
    "     ROUND(AVG(score), 2) AS avg_score,\n",
    "     SUM(ups) AS sum_ups,\n",
    "     SUM(CAST(edited AS int)) AS edited_count,\n",
    "     SUM(CAST(stickied AS int)) AS stickied_count,\n",
    "     SUM(gilded) AS gilded_count,\n",
    "     SUM(controversiality) as controversiality_sum,\n",
    "     COUNT(CASE WHEN distinguished IS NOT NULL THEN 1 END) AS distinguished_count\n",
    "  FROM \n",
    "      reddit_comments\n",
    "  GROUP BY\n",
    "      1, 2\n",
    "  ORDER BY\n",
    "      sum_score desc\n",
    "\"\"\").show(5)"
   ]
  },
  {
   "cell_type": "code",
   "execution_count": 53,
   "id": "98ad134c-c375-4c96-a7b9-2d62baead8dd",
   "metadata": {},
   "outputs": [
    {
     "name": "stdout",
     "output_type": "stream",
     "text": [
      "+----+-----+-----------+----------------+-----------------+-----------+---------+---------+---------+------------+------------+--------------+-------------------+-------------------+\n",
      "|year|month|nb_comments|distinct_authors|active_subreddits|total_score|avg_score|max_score|total_ups|gilded_count|edited_count|stickied_count|controversial_count|distinguished_count|\n",
      "+----+-----+-----------+----------------+-----------------+-----------+---------+---------+---------+------------+------------+--------------+-------------------+-------------------+\n",
      "|2005|   12|       1075|             394|                1|       1680|     1.56|       27|     1680|           2|           0|             0|                 50|                  0|\n",
      "|2006|   01|       3666|             791|                2|       4954|     1.35|       34|     4954|           0|           0|             0|                298|                  0|\n",
      "|2007|   01|      81341|            7931|               23|     248397|     3.05|      239|   248397|           0|          23|             0|               6252|                  0|\n",
      "+----+-----+-----------+----------------+-----------------+-----------+---------+---------+---------+------------+------------+--------------+-------------------+-------------------+\n",
      "\n"
     ]
    }
   ],
   "source": [
    "spark.sql(\"\"\"\n",
    "    SELECT \n",
    "        year,\n",
    "        month,\n",
    "        COUNT(id) AS nb_comments,\n",
    "        COUNT(DISTINCT author) AS distinct_authors,\n",
    "        COUNT(DISTINCT subreddit) AS active_subreddits,\n",
    "        SUM(score) AS total_score,\n",
    "        ROUND(AVG(score), 2) AS avg_score,\n",
    "        MAX(score) AS max_score,\n",
    "        SUM(ups) AS total_ups,\n",
    "        SUM(gilded) AS gilded_count,\n",
    "        SUM(CAST(edited AS INT)) AS edited_count,\n",
    "        SUM(CAST(stickied AS INT)) AS stickied_count,\n",
    "        SUM(controversiality) AS controversial_count,\n",
    "        COUNT(CASE WHEN distinguished IS NOT NULL THEN 1 END) AS distinguished_count\n",
    "    FROM\n",
    "        reddit_comments\n",
    "    GROUP BY\n",
    "        year, month\n",
    "    ORDER BY\n",
    "        year, month\n",
    "\"\"\").show()"
   ]
  },
  {
   "cell_type": "code",
   "execution_count": 5,
   "id": "6ff6c217-1557-4f3d-a0c9-a748351300db",
   "metadata": {},
   "outputs": [],
   "source": [
    "dff = spark.read.option(\"header\", \"true\").parquet(\"../data/sampled/comments_history\")"
   ]
  },
  {
   "cell_type": "code",
   "execution_count": 6,
   "id": "eb3cd7d5-d59b-4a10-9dad-b1e0f803d3e7",
   "metadata": {},
   "outputs": [
    {
     "data": {
      "text/plain": [
       "60159"
      ]
     },
     "execution_count": 6,
     "metadata": {},
     "output_type": "execute_result"
    }
   ],
   "source": [
    "dff.count()"
   ]
  },
  {
   "cell_type": "code",
   "execution_count": 8,
   "id": "ce9f5fda-81b4-425c-8c07-9cce2f18371f",
   "metadata": {},
   "outputs": [
    {
     "name": "stdout",
     "output_type": "stream",
     "text": [
      "+------------+------------+-----------+----+-----+--------------------+-------------------+--------+--------------------+----------------+-----------+\n",
      "|      author|subreddit_id|  subreddit|year|month|                body|     created_utc_ts| link_id|           permalink|source_subreddit|source_year|\n",
      "+------------+------------+-----------+----+-----+--------------------+-------------------+--------+--------------------+----------------+-----------+\n",
      "|nixonrichard|        t5_6| reddit.com|2007|   09|That's the best d...|2007-09-01 00:00:09|t3_2koup|https://www.reddi...|         t5_mouw|       2007|\n",
      "| setuid_w00t|     t5_2fwo|programming|2007|   09|It would be cool ...|2007-09-01 00:02:53|t3_2kccz|https://www.reddi...|         t5_mouw|       2007|\n",
      "|      lanaer|        t5_6| reddit.com|2007|   09|&gt; you do reali...|2007-09-01 00:12:05|t3_2kkp7|https://www.reddi...|         t5_mouw|       2007|\n",
      "|      lanaer|        t5_6| reddit.com|2007|   09|&gt; you do reali...|2007-09-01 00:12:05|t3_2kkp7|https://www.reddi...|        t5_2cneq|       2007|\n",
      "|  unrealious|     t5_mouw|    science|2007|   09|...And a monolith...|2007-09-01 00:12:31|t3_2kh7m|https://www.reddi...|        t5_2cneq|       2007|\n",
      "+------------+------------+-----------+----+-----+--------------------+-------------------+--------+--------------------+----------------+-----------+\n",
      "only showing top 5 rows\n",
      "\n"
     ]
    }
   ],
   "source": [
    "dff.show(5)"
   ]
  },
  {
   "cell_type": "code",
   "execution_count": null,
   "id": "433d245e-d975-4b07-9a2b-5b68fa846a54",
   "metadata": {},
   "outputs": [],
   "source": []
  }
 ],
 "metadata": {
  "kernelspec": {
   "display_name": "Python 3 (ipykernel)",
   "language": "python",
   "name": "python3"
  },
  "language_info": {
   "codemirror_mode": {
    "name": "ipython",
    "version": 3
   },
   "file_extension": ".py",
   "mimetype": "text/x-python",
   "name": "python",
   "nbconvert_exporter": "python",
   "pygments_lexer": "ipython3",
   "version": "3.10.1"
  }
 },
 "nbformat": 4,
 "nbformat_minor": 5
}
