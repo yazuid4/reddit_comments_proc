{
 "cells": [
  {
   "cell_type": "code",
   "execution_count": 7,
   "id": "2552bd66-260f-4cc2-bd63-2752aca46c99",
   "metadata": {},
   "outputs": [],
   "source": [
    "import random\n",
    "from pyspark.sql import SparkSession\n",
    "from pyspark.sql import functions as F\n",
    "from pyspark.sql.types import StringType, ArrayType"
   ]
  },
  {
   "cell_type": "code",
   "execution_count": 8,
   "id": "8e764b9b-e826-42ae-a008-2979056e9403",
   "metadata": {},
   "outputs": [],
   "source": [
    "spark = SparkSession.builder \\\n",
    "            .appName(\"user-sampling\") \\\n",
    "            .master(\"local[*]\") \\\n",
    "            .getOrCreate()"
   ]
  },
  {
   "cell_type": "code",
   "execution_count": 9,
   "id": "c475bd29-28e4-4ad5-840f-3c1d4943bbde",
   "metadata": {},
   "outputs": [],
   "source": [
    "df = spark.read.parquet(\"../data/raw/pq/*/*\")"
   ]
  },
  {
   "cell_type": "code",
   "execution_count": null,
   "id": "2217fd30-b944-406d-b5be-f9fcc6b44133",
   "metadata": {},
   "outputs": [],
   "source": []
  },
  {
   "cell_type": "code",
   "execution_count": 8,
   "id": "e58a5b76-061d-4692-b60d-22767425129e",
   "metadata": {},
   "outputs": [],
   "source": [
    "# user sampling:\n",
    "def sample_users(users):\n",
    "    users = [user for user in users if user != \"[deleted]\"]\n",
    "    if not users:\n",
    "        return []\n",
    "    ratio = min(max(1, int(len(users) * 0.02)), 50)\n",
    "    return random.sample(users, ratio)\n",
    "\n",
    "sample_users_func = F.udf(sample_users, ArrayType(StringType()))"
   ]
  },
  {
   "cell_type": "code",
   "execution_count": 9,
   "id": "0e243597-0bf8-4f3e-a0ff-46a6db49970b",
   "metadata": {},
   "outputs": [],
   "source": [
    "df_users_group = df.select(\"year\", \"subreddit_id\", \"author\")\\\n",
    "    .groupby(\"year\", \"subreddit_id\") \\\n",
    "    .agg(F.collect_set(\"author\").alias(\"unique_authors\"))"
   ]
  },
  {
   "cell_type": "code",
   "execution_count": 10,
   "id": "3d864d14-4c61-4444-a760-3437fa17e2fd",
   "metadata": {},
   "outputs": [],
   "source": [
    "df_users_sampled = df_users_group.withColumn(\"sampled_authors\", sample_users_func(\"unique_authors\"))"
   ]
  },
  {
   "cell_type": "code",
   "execution_count": 11,
   "id": "fc9b0cba-cf06-4f61-a7a5-afc32dcc4ce5",
   "metadata": {},
   "outputs": [
    {
     "name": "stdout",
     "output_type": "stream",
     "text": [
      "+----+------------+--------------------+----------------+\n",
      "|year|subreddit_id|      unique_authors| sampled_authors|\n",
      "+----+------------+--------------------+----------------+\n",
      "|2007|     t5_22i0|[jan, alrond, bay...|        [alrond]|\n",
      "|2007|     t5_21n6|[Princesss, Tanai...|       [dend395]|\n",
      "|2007|     t5_21nj|[MalloyMan, anand...|   [brainburger]|\n",
      "|2007|     t5_247d|[TamaraBergfeld, ...|[TamaraBergfeld]|\n",
      "|2007|     t5_4od4|[martindurf, fr_l...|        [fr_lut]|\n",
      "|2007|     t5_247c|[33rr, turghata, ...|      [turghata]|\n",
      "|2007|      t5_vf2|[ragedlinker, but...|      [uoouoo35]|\n",
      "|2007|     t5_247i|[kit1980, antariu...|   [litemanager]|\n",
      "|2007|     t5_22i2|  [frntk, [deleted]]|         [frntk]|\n",
      "|2007|     t5_2478|[hamlet_tk, shrin...|  [colletthabbo]|\n",
      "+----+------------+--------------------+----------------+\n",
      "only showing top 10 rows\n",
      "\n"
     ]
    }
   ],
   "source": [
    "df_users_sampled.show(10)"
   ]
  },
  {
   "cell_type": "code",
   "execution_count": 10,
   "id": "cd1c4ccc-775c-4056-99f0-59a49d3914c9",
   "metadata": {},
   "outputs": [],
   "source": [
    "# user sampling (optimal)\n",
    "df_users_grouped = df.select(\"year\", \"subreddit_id\", \"author\") \\\n",
    "    .groupby(\"year\", \"subreddit_id\") \\\n",
    "    .agg(F.collect_set(\n",
    "             F.when(F.col(\"author\") != \"[deleted]\", F.col(\"author\"))\n",
    "              ) \\\n",
    "          .alias(\"unique_authors\"))"
   ]
  },
  {
   "cell_type": "code",
   "execution_count": 11,
   "id": "3770d135-5fdd-481e-b726-2a3a0c239041",
   "metadata": {},
   "outputs": [],
   "source": [
    "# ratio = min(max(1, int(len(users) * 0.02)), 50)\n",
    "df_users_sampled = df_users_grouped.withColumn(\n",
    "    \"sampled_authors\",\n",
    "    F.slice(\n",
    "        F.shuffle(\"unique_authors\"),\n",
    "        1,\n",
    "        F.least(  # max is 50\n",
    "            F.greatest(  # min is 1\n",
    "                F.floor(F.size(\"unique_authors\") * 0.02).cast(\"int\"),\n",
    "                F.lit(1)\n",
    "            ),\n",
    "            F.lit(50)\n",
    "        )\n",
    "    )\n",
    ")"
   ]
  },
  {
   "cell_type": "code",
   "execution_count": 12,
   "id": "3e415dce-2f3a-43c6-beee-ac4a9a6ca0d6",
   "metadata": {},
   "outputs": [],
   "source": [
    "sampled_authors_flat = df_users_sampled.select(\"year\", \"subreddit_id\",\n",
    "      F.explode(\"sampled_authors\")\\\n",
    "       .alias(\"sampled_authors\")\n",
    "  )"
   ]
  },
  {
   "cell_type": "code",
   "execution_count": 13,
   "id": "b1f977f3-b088-4019-b41e-9e4f79c618c9",
   "metadata": {},
   "outputs": [],
   "source": [
    "sampled_authors_flat.coalesce(1)\\\n",
    "    .write\\\n",
    "    .mode(\"overwrite\")\\\n",
    "    .option(\"header\", \"true\")\\\n",
    "    .csv(\"../data/sampled/users\")"
   ]
  },
  {
   "cell_type": "code",
   "execution_count": null,
   "id": "5e4a8b46-165e-4511-b808-1fbe2e715602",
   "metadata": {},
   "outputs": [],
   "source": []
  },
  {
   "cell_type": "code",
   "execution_count": 14,
   "id": "a7a3c3ee-8e23-45af-bad6-26f63a4a182f",
   "metadata": {},
   "outputs": [],
   "source": [
    "# join (keeps only sampled users\n",
    "df_final = df.join(df_users_sampled,\n",
    "        (df.year == df_users_sampled.year) & \\\n",
    "        (df.subreddit_id == df_users_sampled.subreddit_id) & \\\n",
    "         F.array_contains(df_users_sampled.sampled_authors, df.author),\n",
    "         how=\"inner\") \\\n",
    "    .select(df['*'])"
   ]
  },
  {
   "cell_type": "code",
   "execution_count": 15,
   "id": "e96d7d6b-f36c-4a77-ba1c-5a26b8eb835e",
   "metadata": {},
   "outputs": [],
   "source": [
    "start_date = 2006\n",
    "end_date = 2007\n",
    "for year in range(start_date, end_date + 1):\n",
    "    df_year = df_final.filter(F.col(\"year\") == year)\n",
    "    df_year \\\n",
    "        .coalesce(1) \\\n",
    "        .write\\\n",
    "        .mode(\"overwrite\")\\\n",
    "        .option(\"header\", \"true\")\\\n",
    "        .parquet(f\"../data/sampled/comments/users_comments_{year}\")"
   ]
  },
  {
   "cell_type": "code",
   "execution_count": null,
   "id": "860b02db-9be4-476c-93a2-4f72dae6898a",
   "metadata": {},
   "outputs": [],
   "source": []
  }
 ],
 "metadata": {
  "kernelspec": {
   "display_name": "Python 3 (ipykernel)",
   "language": "python",
   "name": "python3"
  },
  "language_info": {
   "codemirror_mode": {
    "name": "ipython",
    "version": 3
   },
   "file_extension": ".py",
   "mimetype": "text/x-python",
   "name": "python",
   "nbconvert_exporter": "python",
   "pygments_lexer": "ipython3",
   "version": "3.10.1"
  }
 },
 "nbformat": 4,
 "nbformat_minor": 5
}
