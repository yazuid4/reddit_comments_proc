{
 "cells": [
  {
   "cell_type": "code",
   "execution_count": 25,
   "id": "fe13f136-c9b0-41fe-a670-d14481518631",
   "metadata": {},
   "outputs": [],
   "source": [
    "from pyspark.sql import SparkSession"
   ]
  },
  {
   "cell_type": "code",
   "execution_count": 26,
   "id": "5d5cb53d-1f9d-47d6-a297-15424e37ed6d",
   "metadata": {},
   "outputs": [],
   "source": [
    "spark = SparkSession.builder \\\n",
    "    .appName(\"posgres-conn\") \\\n",
    "    .master(\"local[*]\") \\\n",
    "    .config(\"spark.jars\",\n",
    "            \"../jars/postgresql-42.7.3.jar\") \\\n",
    "    .getOrCreate()"
   ]
  },
  {
   "cell_type": "code",
   "execution_count": 27,
   "id": "a930f361-f7db-4362-89d9-a976e9b24091",
   "metadata": {},
   "outputs": [],
   "source": [
    "# df = spark.read.parquet(\"../data/pq/2005/*\")"
   ]
  },
  {
   "cell_type": "code",
   "execution_count": 28,
   "id": "c02b9ce0-3115-43d0-a6c1-55b1fa182a6f",
   "metadata": {},
   "outputs": [],
   "source": [
    "host = \"localhost\"\n",
    "port = 5432\n",
    "database = \"db_reddit\"\n",
    "user = \"user\"\n",
    "password = \"1234\"\n",
    "\n",
    "# Connection details\n",
    "db_url = f\"jdbc:postgresql://{host}:{port}/{database}\"\n",
    "\n",
    "db_properties = {\n",
    "    \"user\": user,\n",
    "    \"password\": password,\n",
    "    \"driver\": \"org.postgresql.Driver\"\n",
    "}"
   ]
  },
  {
   "cell_type": "code",
   "execution_count": 29,
   "id": "729bd808-14ee-4d9a-8b94-8b6b79f22bdd",
   "metadata": {},
   "outputs": [],
   "source": [
    "# copy data to postgress\n",
    "start_year = 2005\n",
    "end_year = 2007\n",
    "for year in range(start_year, end_year+1):\n",
    "    # data\n",
    "    data_location = f\"../data/pq/{year}/*\"\n",
    "    df = spark.read.parquet(data_location)\n",
    "    \n",
    "    # Write DataFrame to postgreSQL\n",
    "    df.write \\\n",
    "        .mode(\"append\") \\\n",
    "        .jdbc(url=db_url, table=\"comments_reddit\", properties=db_properties)"
   ]
  },
  {
   "cell_type": "code",
   "execution_count": null,
   "id": "3f3610d5-5120-40a4-85d5-b8db6f5f2f41",
   "metadata": {},
   "outputs": [],
   "source": []
  },
  {
   "cell_type": "code",
   "execution_count": null,
   "id": "e3cad9d5-8fd0-4973-b539-45799b6feaf1",
   "metadata": {},
   "outputs": [],
   "source": []
  }
 ],
 "metadata": {
  "kernelspec": {
   "display_name": "Python 3 (ipykernel)",
   "language": "python",
   "name": "python3"
  },
  "language_info": {
   "codemirror_mode": {
    "name": "ipython",
    "version": 3
   },
   "file_extension": ".py",
   "mimetype": "text/x-python",
   "name": "python",
   "nbconvert_exporter": "python",
   "pygments_lexer": "ipython3",
   "version": "3.10.1"
  }
 },
 "nbformat": 4,
 "nbformat_minor": 5
}
