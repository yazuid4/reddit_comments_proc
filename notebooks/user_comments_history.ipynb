{
 "cells": [
  {
   "cell_type": "code",
   "execution_count": 1,
   "id": "c4c8b210-8a29-4201-b6ac-1a2821c68d30",
   "metadata": {},
   "outputs": [],
   "source": [
    "from pyspark.sql import SparkSession\n",
    "from pyspark.sql import functions as F"
   ]
  },
  {
   "cell_type": "code",
   "execution_count": 2,
   "id": "5021f2c9-15c0-4536-bb2c-84e7e7a23e67",
   "metadata": {},
   "outputs": [],
   "source": [
    "spark = SparkSession.builder\\\n",
    "            .master(\"local[*]\") \\\n",
    "            .appName(\"user-comments\") \\\n",
    "            .getOrCreate()"
   ]
  },
  {
   "cell_type": "code",
   "execution_count": 3,
   "id": "f59cb731-3334-487a-b226-4c8b05c77f47",
   "metadata": {},
   "outputs": [],
   "source": [
    "df = spark.read.parquet(\"../data/raw/pq/*/*\")"
   ]
  },
  {
   "cell_type": "code",
   "execution_count": 4,
   "id": "dcb76544-5730-4152-ac17-ee21331a721f",
   "metadata": {},
   "outputs": [],
   "source": [
    "df_authors = spark.read \\\n",
    "    .option(\"header\", \"true\") \\\n",
    "    .csv(\"../data/sampled/users\")"
   ]
  },
  {
   "cell_type": "code",
   "execution_count": 5,
   "id": "f4d0aeaa-261a-4a2e-a71e-f4c7b618696b",
   "metadata": {},
   "outputs": [],
   "source": [
    "df_authors = df_authors.withColumnRenamed(\"year\", \"source_year\") \\\n",
    "                       .withColumnRenamed(\"subreddit_id\", \"source_subreddit\")"
   ]
  },
  {
   "cell_type": "code",
   "execution_count": 6,
   "id": "a4795df3-1845-45dd-93a8-7eaa85282efa",
   "metadata": {},
   "outputs": [],
   "source": [
    "df_sampled = df.join(df_authors, \\\n",
    "               df.author == df_authors.sampled_authors, \\\n",
    "               \"inner\")\\\n",
    "                    .drop(df_authors.sampled_authors)"
   ]
  },
  {
   "cell_type": "code",
   "execution_count": 11,
   "id": "1df15ca2-7e8e-45a4-b16f-f29bb000b3e7",
   "metadata": {},
   "outputs": [],
   "source": [
    "df_sampled = df_sampled.withColumn(\"permalink\", \n",
    "                             F.concat(\n",
    "                                F.lit(\"https://www.reddit.com/r/\"),\n",
    "                                F.col(\"subreddit\"),\n",
    "                                F.lit(\"/comments/\"),\n",
    "                                F.regexp_replace(F.col(\"link_id\"), \"t3_\", \"\"),\n",
    "                                F.lit(\"/_/\"),\n",
    "                                F.col(\"id\")\n",
    "                             )\n",
    "                            )"
   ]
  },
  {
   "cell_type": "code",
   "execution_count": 12,
   "id": "731bf968-4973-4088-9721-556e7ee234ac",
   "metadata": {},
   "outputs": [],
   "source": [
    "# save dataframes:\n",
    "df_comments_history_full = df_sampled.select(\"author\",\n",
    "                                              \"subreddit_id\",\n",
    "                                              \"subreddit\",\n",
    "                                              \"year\",\n",
    "                                              \"month\",\n",
    "                                              \"body\",\n",
    "                                              \"created_utc_ts\",\n",
    "                                              \"link_id\",\n",
    "                                              \"permalink\",\n",
    "                                              \"source_subreddit\",\n",
    "                                              \"source_year\")\n",
    "\n",
    "df_comments_history_full \\\n",
    "            .coalesce(1) \\\n",
    "            .write \\\n",
    "            .option(\"header\", True) \\\n",
    "            .mode(\"overwrite\") \\\n",
    "            .parquet(\"../data/sampled/comments_history/\")"
   ]
  },
  {
   "cell_type": "code",
   "execution_count": 11,
   "id": "6ac710c9-e87d-4b03-95de-3287a4c6b25e",
   "metadata": {},
   "outputs": [],
   "source": [
    "# Permalink:\n",
    "# https://www.reddit.com/r/{subreddit}/comments/{link_id_without_t3}/_/{comment_id}\n",
    "\n",
    "# link id:\n",
    "# t3_...: the post ID (submission ID)\n",
    "\n",
    "# in parent id:\n",
    "# t3_...: parent is a post\n",
    "# t1_...:parent is a comment"
   ]
  },
  {
   "cell_type": "code",
   "execution_count": null,
   "id": "66fd0e25-0216-47ff-b8b0-7eb128dd7106",
   "metadata": {},
   "outputs": [],
   "source": []
  },
  {
   "cell_type": "code",
   "execution_count": null,
   "id": "a9ba492b-8b54-4749-b41f-d7bb71f08093",
   "metadata": {},
   "outputs": [],
   "source": []
  }
 ],
 "metadata": {
  "kernelspec": {
   "display_name": "Python 3 (ipykernel)",
   "language": "python",
   "name": "python3"
  },
  "language_info": {
   "codemirror_mode": {
    "name": "ipython",
    "version": 3
   },
   "file_extension": ".py",
   "mimetype": "text/x-python",
   "name": "python",
   "nbconvert_exporter": "python",
   "pygments_lexer": "ipython3",
   "version": "3.10.1"
  }
 },
 "nbformat": 4,
 "nbformat_minor": 5
}
